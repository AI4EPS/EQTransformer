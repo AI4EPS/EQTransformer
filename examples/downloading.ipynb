{
 "cells": [
  {
   "cell_type": "markdown",
   "metadata": {},
   "source": [
    "# Downloading Continuous Data\n",
    "This notebook demonstrates the use of EQTransformer for downloading continuous data from seismic networks. \n"
   ]
  },
  {
   "cell_type": "code",
   "execution_count": 1,
   "metadata": {},
   "outputs": [
    {
     "name": "stderr",
     "output_type": "stream",
     "text": [
      "Using TensorFlow backend.\n",
      "/Users/mostafamousavi/anaconda3/envs/test1/lib/python3.7/site-packages/tensorflow/python/framework/dtypes.py:526: FutureWarning: Passing (type, 1) or '1type' as a synonym of type is deprecated; in a future version of numpy, it will be understood as (type, (1,)) / '(1,)type'.\n",
      "  _np_qint8 = np.dtype([(\"qint8\", np.int8, 1)])\n",
      "/Users/mostafamousavi/anaconda3/envs/test1/lib/python3.7/site-packages/tensorflow/python/framework/dtypes.py:527: FutureWarning: Passing (type, 1) or '1type' as a synonym of type is deprecated; in a future version of numpy, it will be understood as (type, (1,)) / '(1,)type'.\n",
      "  _np_quint8 = np.dtype([(\"quint8\", np.uint8, 1)])\n",
      "/Users/mostafamousavi/anaconda3/envs/test1/lib/python3.7/site-packages/tensorflow/python/framework/dtypes.py:528: FutureWarning: Passing (type, 1) or '1type' as a synonym of type is deprecated; in a future version of numpy, it will be understood as (type, (1,)) / '(1,)type'.\n",
      "  _np_qint16 = np.dtype([(\"qint16\", np.int16, 1)])\n",
      "/Users/mostafamousavi/anaconda3/envs/test1/lib/python3.7/site-packages/tensorflow/python/framework/dtypes.py:529: FutureWarning: Passing (type, 1) or '1type' as a synonym of type is deprecated; in a future version of numpy, it will be understood as (type, (1,)) / '(1,)type'.\n",
      "  _np_quint16 = np.dtype([(\"quint16\", np.uint16, 1)])\n",
      "/Users/mostafamousavi/anaconda3/envs/test1/lib/python3.7/site-packages/tensorflow/python/framework/dtypes.py:530: FutureWarning: Passing (type, 1) or '1type' as a synonym of type is deprecated; in a future version of numpy, it will be understood as (type, (1,)) / '(1,)type'.\n",
      "  _np_qint32 = np.dtype([(\"qint32\", np.int32, 1)])\n",
      "/Users/mostafamousavi/anaconda3/envs/test1/lib/python3.7/site-packages/tensorflow/python/framework/dtypes.py:535: FutureWarning: Passing (type, 1) or '1type' as a synonym of type is deprecated; in a future version of numpy, it will be understood as (type, (1,)) / '(1,)type'.\n",
      "  np_resource = np.dtype([(\"resource\", np.ubyte, 1)])\n"
     ]
    }
   ],
   "source": [
    "from EQTransformer.utils.downloader import makeStationList, downloadMseeds"
   ]
  },
  {
   "cell_type": "markdown",
   "metadata": {},
   "source": [
    "You can use help() to learn about input parameters of each fuunction. For instance:"
   ]
  },
  {
   "cell_type": "code",
   "execution_count": 2,
   "metadata": {},
   "outputs": [
    {
     "name": "stdout",
     "output_type": "stream",
     "text": [
      "Help on function makeStationList in module EQTransformer.utils.downloader:\n",
      "\n",
      "makeStationList(client_list, min_lat, max_lat, min_lon, max_lon, start_time, end_time, channel_list=[], filter_network=[], filter_station=[])\n",
      "    Uses fdsn to find available stations in a specific geographical location and time period.  \n",
      "    \n",
      "    Parameters\n",
      "    ----------\n",
      "    client_list: list\n",
      "        List of client names e.g. [\"IRIS\", \"SCEDC\", \"USGGS\"].\n",
      "                                \n",
      "    min_lat: float\n",
      "        Min latitude of the region.\n",
      "        \n",
      "    max_lat: float\n",
      "        Max latitude of the region.\n",
      "        \n",
      "    min_lon: float\n",
      "        Min longitude of the region.\n",
      "        \n",
      "    max_lon: float\n",
      "        Max longitude of the region.\n",
      "        \n",
      "    start_time: str\n",
      "        Start DateTime for the beginning of the period in \"YYYY-MM-DDThh:mm:ss.f\" format.\n",
      "        \n",
      "    end_time: str\n",
      "        End DateTime for the beginning of the period in \"YYYY-MM-DDThh:mm:ss.f\" format.\n",
      "        \n",
      "    channel_list: str, default=[]\n",
      "        A list containing the desired channel codes. Downloads will be limited to these channels based on priority. Defaults to [] --> all channels\n",
      "        \n",
      "    filter_network: str, default=[]\n",
      "        A list containing the network codes that need to be avoided. \n",
      "        \n",
      "    filter_station: str, default=[]\n",
      "        A list containing the station names that need to be avoided.\n",
      "    \n",
      "    Returns\n",
      "    ----------\n",
      "    stations_list.json: A dictionary containing information for the available stations.\n",
      "\n"
     ]
    }
   ],
   "source": [
    "help(makeStationList)"
   ]
  },
  {
   "cell_type": "markdown",
   "metadata": {},
   "source": [
    "### 1) Finding the availabel stations "
   ]
  },
  {
   "cell_type": "markdown",
   "metadata": {},
   "source": [
    "Defining the location and time period of interest:"
   ]
  },
  {
   "cell_type": "code",
   "execution_count": 3,
   "metadata": {},
   "outputs": [],
   "source": [
    "MINLAT=35.50\n",
    "MAXLAT=35.60\n",
    "MINLON=-117.80\n",
    "MAXLON=-117.40\n",
    "STIME=\"2019-09-01 00:00:00.00\"\n",
    "ETIME=\"2019-09-02 00:00:00.00\""
   ]
  },
  {
   "cell_type": "markdown",
   "metadata": {},
   "source": [
    "You can limit your data types (e.g. broadband, short period, or strong motion) of interest:"
   ]
  },
  {
   "cell_type": "code",
   "execution_count": 4,
   "metadata": {},
   "outputs": [],
   "source": [
    "CHANLIST=[\"HH[ZNE]\", \"HH[Z21]\", \"BH[ZNE]\", \"EH[ZNE]\", \"SH[ZNE]\", \"HN[ZNE]\", \"HN[Z21]\", \"DP[ZNE]\"]"
   ]
  },
  {
   "cell_type": "markdown",
   "metadata": {},
   "source": [
    "This will download the information on the stations that are available based on your search criteria. You can filter out the networks or stations that you are not interested in, you can find the name of the appropriate client for your request from here:"
   ]
  },
  {
   "cell_type": "code",
   "execution_count": 5,
   "metadata": {},
   "outputs": [
    {
     "name": "stdout",
     "output_type": "stream",
     "text": [
      "GS--CA06\n",
      "GS--CA10\n",
      "PB--B921\n",
      "ZY--SV08\n"
     ]
    }
   ],
   "source": [
    "makeStationList(client_list=[\"SCEDC\"],  \n",
    "                  min_lat=MINLAT,\n",
    "                  max_lat=MAXLAT,\n",
    "                  min_lon=MINLON, \n",
    "                  max_lon=MAXLON,                      \n",
    "                  start_time=STIME, \n",
    "                  end_time=ETIME,\n",
    "                  channel_list=CHANLIST,\n",
    "                  filter_network=[\"SY\"],\n",
    "                  filter_station=[])"
   ]
  },
  {
   "cell_type": "markdown",
   "metadata": {},
   "source": [
    "A jason file (\"stataions_list.json\") should have been created in your current directory. This contains information for the available stations (i.e. 4 stations in this case). Next, you can download the data for the available stations using the following function and script. This may take a few minutes."
   ]
  },
  {
   "cell_type": "markdown",
   "metadata": {},
   "source": [
    "### 2) Downloading the data"
   ]
  },
  {
   "cell_type": "markdown",
   "metadata": {},
   "source": [
    "You can define multipel clients as the source:"
   ]
  },
  {
   "cell_type": "code",
   "execution_count": 6,
   "metadata": {},
   "outputs": [
    {
     "name": "stderr",
     "output_type": "stream",
     "text": [
      "[2020-06-29 20:58:21,960] - obspy.clients.fdsn.mass_downloader - INFO: Initializing FDSN client(s) for SCEDC, IRIS.\n"
     ]
    },
    {
     "name": "stdout",
     "output_type": "stream",
     "text": [
      "####### There are 4 stations in the list. #######\n"
     ]
    },
    {
     "name": "stderr",
     "output_type": "stream",
     "text": [
      "[2020-06-29 20:58:22,338] - obspy.clients.fdsn.mass_downloader - INFO: Successfully initialized 2 client(s): SCEDC, IRIS.\n",
      "[2020-06-29 20:58:22,340] - obspy.clients.fdsn.mass_downloader - INFO: Total acquired or preexisting stations: 0\n",
      "[2020-06-29 20:58:22,341] - obspy.clients.fdsn.mass_downloader - INFO: Total acquired or preexisting stations: 0\n",
      "[2020-06-29 20:58:22,341] - obspy.clients.fdsn.mass_downloader - INFO: Client 'SCEDC' - Requesting unreliable availability.\n",
      "[2020-06-29 20:58:22,342] - obspy.clients.fdsn.mass_downloader - INFO: Client 'SCEDC' - Requesting unreliable availability.\n"
     ]
    },
    {
     "name": "stdout",
     "output_type": "stream",
     "text": [
      "======= Working on CA06 station.\n",
      "======= Working on CA10 station.\n"
     ]
    },
    {
     "name": "stderr",
     "output_type": "stream",
     "text": [
      "[2020-06-29 20:58:22,601] - obspy.clients.fdsn.mass_downloader - INFO: Client 'SCEDC' - Successfully requested availability (0.26 seconds)\n",
      "[2020-06-29 20:58:22,603] - obspy.clients.fdsn.mass_downloader - INFO: Client 'SCEDC' - Successfully requested availability (0.26 seconds)\n",
      "[2020-06-29 20:58:22,606] - obspy.clients.fdsn.mass_downloader - INFO: Client 'SCEDC' - Found 1 stations (3 channels).\n",
      "[2020-06-29 20:58:22,607] - obspy.clients.fdsn.mass_downloader - INFO: Client 'SCEDC' - Found 0 stations (0 channels).\n",
      "[2020-06-29 20:58:22,608] - obspy.clients.fdsn.mass_downloader - INFO: Client 'SCEDC' - Will attempt to download data from 1 stations.\n",
      "[2020-06-29 20:58:22,608] - obspy.clients.fdsn.mass_downloader - INFO: Client 'SCEDC' - No data available.\n",
      "[2020-06-29 20:58:22,610] - obspy.clients.fdsn.mass_downloader - INFO: Total acquired or preexisting stations: 0\n",
      "[2020-06-29 20:58:22,611] - obspy.clients.fdsn.mass_downloader - INFO: Client 'IRIS' - Requesting reliable availability.\n",
      "[2020-06-29 20:58:22,612] - obspy.clients.fdsn.mass_downloader - INFO: Client 'SCEDC' - Status for 3 time intervals/channels before downloading: NEEDS_DOWNLOADING\n",
      "[2020-06-29 20:58:22,654] - obspy.clients.fdsn.mass_downloader - INFO: Client 'IRIS' - Successfully requested availability (0.04 seconds)\n",
      "[2020-06-29 20:58:22,656] - obspy.clients.fdsn.mass_downloader - INFO: Client 'IRIS' - Found 0 stations (0 channels).\n",
      "[2020-06-29 20:58:22,656] - obspy.clients.fdsn.mass_downloader - INFO: Client 'IRIS' - No data available.\n",
      "[2020-06-29 20:58:22,657] - obspy.clients.fdsn.mass_downloader - INFO: ============================== Final report\n",
      "[2020-06-29 20:58:22,657] - obspy.clients.fdsn.mass_downloader - INFO: 0 MiniSEED files [0.0 MB] already existed.\n",
      "[2020-06-29 20:58:22,659] - obspy.clients.fdsn.mass_downloader - INFO: 0 StationXML files [0.0 MB] already existed.\n",
      "[2020-06-29 20:58:22,659] - obspy.clients.fdsn.mass_downloader - INFO: Client 'SCEDC' - Acquired 0 MiniSEED files [0.0 MB].\n",
      "[2020-06-29 20:58:22,660] - obspy.clients.fdsn.mass_downloader - INFO: Client 'SCEDC' - Acquired 0 StationXML files [0.0 MB].\n",
      "[2020-06-29 20:58:22,661] - obspy.clients.fdsn.mass_downloader - INFO: Client 'IRIS' - Acquired 0 MiniSEED files [0.0 MB].\n",
      "[2020-06-29 20:58:22,662] - obspy.clients.fdsn.mass_downloader - INFO: Client 'IRIS' - Acquired 0 StationXML files [0.0 MB].\n",
      "[2020-06-29 20:58:22,663] - obspy.clients.fdsn.mass_downloader - INFO: Downloaded 0.0 MB in total.\n"
     ]
    },
    {
     "name": "stdout",
     "output_type": "stream",
     "text": [
      "** done with --> CA10 -- GS -- 2019-09-01\n"
     ]
    },
    {
     "name": "stderr",
     "output_type": "stream",
     "text": [
      "[2020-06-29 20:58:50,668] - obspy.clients.fdsn.mass_downloader - INFO: Total acquired or preexisting stations: 0\n",
      "[2020-06-29 20:58:50,669] - obspy.clients.fdsn.mass_downloader - INFO: Client 'SCEDC' - Requesting unreliable availability.\n"
     ]
    },
    {
     "name": "stdout",
     "output_type": "stream",
     "text": [
      "======= Working on B921 station.\n"
     ]
    },
    {
     "name": "stderr",
     "output_type": "stream",
     "text": [
      "[2020-06-29 20:58:51,116] - obspy.clients.fdsn.mass_downloader - INFO: Client 'SCEDC' - Successfully requested availability (0.45 seconds)\n",
      "[2020-06-29 20:58:51,143] - obspy.clients.fdsn.mass_downloader - INFO: Client 'SCEDC' - Found 1 stations (3 channels).\n",
      "[2020-06-29 20:58:51,143] - obspy.clients.fdsn.mass_downloader - INFO: Client 'SCEDC' - Will attempt to download data from 1 stations.\n",
      "[2020-06-29 20:58:51,144] - obspy.clients.fdsn.mass_downloader - INFO: Client 'SCEDC' - Status for 3 time intervals/channels before downloading: NEEDS_DOWNLOADING\n",
      "[2020-06-29 20:59:06,467] - obspy.clients.fdsn.mass_downloader - INFO: Client 'SCEDC' - Successfully downloaded 1 channels (of 1)\n",
      "[2020-06-29 20:59:06,636] - obspy.clients.fdsn.mass_downloader - INFO: Client 'SCEDC' - Successfully downloaded 1 channels (of 1)\n",
      "[2020-06-29 20:59:06,952] - obspy.clients.fdsn.mass_downloader - INFO: Client 'SCEDC' - Successfully downloaded 1 channels (of 1)\n",
      "[2020-06-29 20:59:06,953] - obspy.clients.fdsn.mass_downloader - INFO: Client 'SCEDC' - Launching basic QC checks...\n",
      "[2020-06-29 20:59:06,989] - obspy.clients.fdsn.mass_downloader - INFO: Client 'SCEDC' - Downloaded 27.1 MB [1757.18 KB/sec] of data, 0.0 MB of which were discarded afterwards.\n",
      "[2020-06-29 20:59:06,989] - obspy.clients.fdsn.mass_downloader - INFO: Client 'SCEDC' - Status for 3 time intervals/channels after downloading: DOWNLOADED\n",
      "[2020-06-29 20:59:13,916] - obspy.clients.fdsn.mass_downloader - INFO: Client 'SCEDC' - Successfully downloaded 'downloads_mseedsxml/B921/PB.B921.xml'.\n",
      "[2020-06-29 20:59:13,926] - obspy.clients.fdsn.mass_downloader - INFO: Client 'SCEDC' - Downloaded 1 station files [0.0 MB] in 6.9 seconds [3.63 KB/sec].\n",
      "[2020-06-29 20:59:13,929] - obspy.clients.fdsn.mass_downloader - INFO: Total acquired or preexisting stations: 1\n",
      "[2020-06-29 20:59:13,930] - obspy.clients.fdsn.mass_downloader - INFO: Client 'IRIS' - Requesting reliable availability.\n",
      "[2020-06-29 20:59:14,205] - obspy.clients.fdsn.mass_downloader - INFO: Client 'IRIS' - Successfully requested availability (0.27 seconds)\n",
      "[2020-06-29 20:59:14,225] - obspy.clients.fdsn.mass_downloader - INFO: Client 'IRIS' - Found 1 stations (3 channels).\n",
      "[2020-06-29 20:59:14,226] - obspy.clients.fdsn.mass_downloader - INFO: Client 'IRIS' - No new data available after discarding already downloaded data.\n",
      "[2020-06-29 20:59:14,226] - obspy.clients.fdsn.mass_downloader - INFO: ============================== Final report\n",
      "[2020-06-29 20:59:14,227] - obspy.clients.fdsn.mass_downloader - INFO: 0 MiniSEED files [0.0 MB] already existed.\n",
      "[2020-06-29 20:59:14,228] - obspy.clients.fdsn.mass_downloader - INFO: 0 StationXML files [0.0 MB] already existed.\n",
      "[2020-06-29 20:59:14,229] - obspy.clients.fdsn.mass_downloader - INFO: Client 'SCEDC' - Acquired 3 MiniSEED files [27.1 MB].\n",
      "[2020-06-29 20:59:14,229] - obspy.clients.fdsn.mass_downloader - INFO: Client 'SCEDC' - Acquired 1 StationXML files [0.0 MB].\n",
      "[2020-06-29 20:59:14,230] - obspy.clients.fdsn.mass_downloader - INFO: Client 'IRIS' - Acquired 0 MiniSEED files [0.0 MB].\n",
      "[2020-06-29 20:59:14,231] - obspy.clients.fdsn.mass_downloader - INFO: Client 'IRIS' - Acquired 0 StationXML files [0.0 MB].\n",
      "[2020-06-29 20:59:14,231] - obspy.clients.fdsn.mass_downloader - INFO: Downloaded 27.1 MB in total.\n"
     ]
    },
    {
     "name": "stdout",
     "output_type": "stream",
     "text": [
      "** done with --> B921 -- PB -- 2019-09-01\n"
     ]
    },
    {
     "name": "stderr",
     "output_type": "stream",
     "text": [
      "[2020-06-29 20:59:41,238] - obspy.clients.fdsn.mass_downloader - INFO: Total acquired or preexisting stations: 0\n",
      "[2020-06-29 20:59:41,239] - obspy.clients.fdsn.mass_downloader - INFO: Client 'SCEDC' - Requesting unreliable availability.\n"
     ]
    },
    {
     "name": "stdout",
     "output_type": "stream",
     "text": [
      "======= Working on SV08 station.\n"
     ]
    },
    {
     "name": "stderr",
     "output_type": "stream",
     "text": [
      "[2020-06-29 20:59:41,451] - obspy.clients.fdsn.mass_downloader - INFO: Client 'SCEDC' - Successfully requested availability (0.21 seconds)\n",
      "[2020-06-29 20:59:41,453] - obspy.clients.fdsn.mass_downloader - INFO: Client 'SCEDC' - Found 1 stations (3 channels).\n",
      "[2020-06-29 20:59:41,454] - obspy.clients.fdsn.mass_downloader - INFO: Client 'SCEDC' - Will attempt to download data from 1 stations.\n",
      "[2020-06-29 20:59:41,455] - obspy.clients.fdsn.mass_downloader - INFO: Client 'SCEDC' - Status for 3 time intervals/channels before downloading: NEEDS_DOWNLOADING\n",
      "[2020-06-29 20:59:55,691] - obspy.clients.fdsn.mass_downloader - INFO: Client 'SCEDC' - Successfully downloaded 1 channels (of 1)\n",
      "[2020-06-29 20:59:56,793] - obspy.clients.fdsn.mass_downloader - INFO: Client 'SCEDC' - Successfully downloaded 1 channels (of 1)\n",
      "[2020-06-29 20:59:56,940] - obspy.clients.fdsn.mass_downloader - INFO: Client 'SCEDC' - Successfully downloaded 1 channels (of 1)\n",
      "[2020-06-29 20:59:56,941] - obspy.clients.fdsn.mass_downloader - INFO: Client 'SCEDC' - Launching basic QC checks...\n",
      "[2020-06-29 20:59:56,968] - obspy.clients.fdsn.mass_downloader - INFO: Client 'SCEDC' - Downloaded 27.3 MB [1802.55 KB/sec] of data, 0.0 MB of which were discarded afterwards.\n",
      "[2020-06-29 20:59:56,969] - obspy.clients.fdsn.mass_downloader - INFO: Client 'SCEDC' - Status for 3 time intervals/channels after downloading: DOWNLOADED\n",
      "[2020-06-29 21:00:02,221] - obspy.clients.fdsn.mass_downloader - INFO: Client 'SCEDC' - Successfully downloaded 'downloads_mseedsxml/SV08/ZY.SV08.xml'.\n",
      "[2020-06-29 21:00:02,223] - obspy.clients.fdsn.mass_downloader - INFO: Client 'SCEDC' - Downloaded 1 station files [0.0 MB] in 5.3 seconds [0.79 KB/sec].\n",
      "[2020-06-29 21:00:02,224] - obspy.clients.fdsn.mass_downloader - INFO: Total acquired or preexisting stations: 1\n",
      "[2020-06-29 21:00:02,225] - obspy.clients.fdsn.mass_downloader - INFO: Client 'IRIS' - Requesting reliable availability.\n",
      "[2020-06-29 21:00:03,317] - obspy.clients.fdsn.mass_downloader - INFO: Client 'IRIS' - No data available for request.\n",
      "[2020-06-29 21:00:03,318] - obspy.clients.fdsn.mass_downloader - INFO: Client 'IRIS' - No data available.\n",
      "[2020-06-29 21:00:03,318] - obspy.clients.fdsn.mass_downloader - INFO: ============================== Final report\n",
      "[2020-06-29 21:00:03,320] - obspy.clients.fdsn.mass_downloader - INFO: 0 MiniSEED files [0.0 MB] already existed.\n",
      "[2020-06-29 21:00:03,321] - obspy.clients.fdsn.mass_downloader - INFO: 0 StationXML files [0.0 MB] already existed.\n",
      "[2020-06-29 21:00:03,323] - obspy.clients.fdsn.mass_downloader - INFO: Client 'SCEDC' - Acquired 3 MiniSEED files [27.3 MB].\n",
      "[2020-06-29 21:00:03,324] - obspy.clients.fdsn.mass_downloader - INFO: Client 'SCEDC' - Acquired 1 StationXML files [0.0 MB].\n",
      "[2020-06-29 21:00:03,324] - obspy.clients.fdsn.mass_downloader - INFO: Client 'IRIS' - Acquired 0 MiniSEED files [0.0 MB].\n",
      "[2020-06-29 21:00:03,325] - obspy.clients.fdsn.mass_downloader - INFO: Client 'IRIS' - Acquired 0 StationXML files [0.0 MB].\n",
      "[2020-06-29 21:00:03,326] - obspy.clients.fdsn.mass_downloader - INFO: Downloaded 27.3 MB in total.\n"
     ]
    },
    {
     "name": "stdout",
     "output_type": "stream",
     "text": [
      "** done with --> SV08 -- ZY -- 2019-09-01\n"
     ]
    },
    {
     "name": "stderr",
     "output_type": "stream",
     "text": [
      "[2020-06-29 21:00:05,704] - obspy.clients.fdsn.mass_downloader - ERROR: Client 'SCEDC' - Service responds: Internal server error\n",
      "Detailed response of server:\n",
      "\n",
      "Error 500: STP fatal error. Please try again later.\n",
      "More Details:\n",
      "handler exited, code: 1  reason: Internal Server Error\n",
      "Request:\n",
      "http://service.scedc.caltech.edu/fdsnws/dataselect/1/query\n",
      "Request Submitted:\n",
      "2020/06/30 04:00:05 UTC\n",
      "Service version:\n",
      "Service: fdsnws-dataselect  version: 1.1.0\n",
      "[2020-06-29 21:00:05,705] - obspy.clients.fdsn.mass_downloader - ERROR: Client 'SCEDC' - Service responds: Internal server error\n",
      "Detailed response of server:\n",
      "\n",
      "Error 500: STP fatal error. Please try again later.\n",
      "More Details:\n",
      "handler exited, code: 1  reason: Internal Server Error\n",
      "Request:\n",
      "http://service.scedc.caltech.edu/fdsnws/dataselect/1/query\n",
      "Request Submitted:\n",
      "2020/06/30 04:00:05 UTC\n",
      "Service version:\n",
      "Service: fdsnws-dataselect  version: 1.1.0\n",
      "[2020-06-29 21:00:08,448] - obspy.clients.fdsn.mass_downloader - ERROR: Client 'SCEDC' - Service responds: Internal server error\n",
      "Detailed response of server:\n",
      "\n",
      "Error 500: STP fatal error. Please try again later.\n",
      "More Details:\n",
      "handler exited, code: 1  reason: Internal Server Error\n",
      "Request:\n",
      "http://service.scedc.caltech.edu/fdsnws/dataselect/1/query\n",
      "Request Submitted:\n",
      "2020/06/30 04:00:08 UTC\n",
      "Service version:\n",
      "Service: fdsnws-dataselect  version: 1.1.0\n",
      "[2020-06-29 21:00:08,450] - obspy.clients.fdsn.mass_downloader - INFO: Client 'SCEDC' - Launching basic QC checks...\n",
      "[2020-06-29 21:00:08,451] - obspy.clients.fdsn.mass_downloader - INFO: Client 'SCEDC' - Downloaded 0.0 MB [0.00 KB/sec] of data, 0.0 MB of which were discarded afterwards.\n",
      "[2020-06-29 21:00:08,452] - obspy.clients.fdsn.mass_downloader - INFO: Client 'SCEDC' - Status for 3 time intervals/channels after downloading: DOWNLOAD_FAILED\n",
      "[2020-06-29 21:00:08,452] - obspy.clients.fdsn.mass_downloader - INFO: Client 'SCEDC' - No station information to download.\n",
      "[2020-06-29 21:00:08,453] - obspy.clients.fdsn.mass_downloader - INFO: Client 'SCEDC' - No data could be downloaded.\n",
      "[2020-06-29 21:00:08,454] - obspy.clients.fdsn.mass_downloader - INFO: Total acquired or preexisting stations: 0\n",
      "[2020-06-29 21:00:08,454] - obspy.clients.fdsn.mass_downloader - INFO: Client 'IRIS' - Requesting reliable availability.\n",
      "[2020-06-29 21:00:08,529] - obspy.clients.fdsn.mass_downloader - INFO: Client 'IRIS' - Successfully requested availability (0.07 seconds)\n",
      "[2020-06-29 21:00:08,531] - obspy.clients.fdsn.mass_downloader - INFO: Client 'IRIS' - Found 1 stations (3 channels).\n",
      "[2020-06-29 21:00:08,532] - obspy.clients.fdsn.mass_downloader - INFO: Client 'IRIS' - Will attempt to download data from 1 stations.\n",
      "[2020-06-29 21:00:08,533] - obspy.clients.fdsn.mass_downloader - INFO: Client 'IRIS' - Status for 3 time intervals/channels before downloading: NEEDS_DOWNLOADING\n",
      "[2020-06-29 21:00:17,358] - obspy.clients.fdsn.mass_downloader - INFO: Client 'IRIS' - Successfully downloaded 1 channels (of 1)\n",
      "[2020-06-29 21:00:17,533] - obspy.clients.fdsn.mass_downloader - INFO: Client 'IRIS' - Successfully downloaded 1 channels (of 1)\n",
      "[2020-06-29 21:00:17,546] - obspy.clients.fdsn.mass_downloader - INFO: Client 'IRIS' - Successfully downloaded 1 channels (of 1)\n",
      "[2020-06-29 21:00:17,546] - obspy.clients.fdsn.mass_downloader - INFO: Client 'IRIS' - Launching basic QC checks...\n",
      "[2020-06-29 21:00:17,642] - obspy.clients.fdsn.mass_downloader - INFO: Client 'IRIS' - Downloaded 25.2 MB [2857.87 KB/sec] of data, 0.0 MB of which were discarded afterwards.\n",
      "[2020-06-29 21:00:17,643] - obspy.clients.fdsn.mass_downloader - INFO: Client 'IRIS' - Status for 3 time intervals/channels after downloading: DOWNLOADED\n",
      "[2020-06-29 21:00:17,731] - obspy.clients.fdsn.mass_downloader - INFO: Client 'IRIS' - Successfully downloaded 'downloads_mseedsxml/CA06/GS.CA06.xml'.\n",
      "[2020-06-29 21:00:17,741] - obspy.clients.fdsn.mass_downloader - INFO: Client 'IRIS' - Downloaded 1 station files [0.1 MB] in 0.1 seconds [881.52 KB/sec].\n",
      "[2020-06-29 21:00:17,742] - obspy.clients.fdsn.mass_downloader - INFO: ============================== Final report\n",
      "[2020-06-29 21:00:17,742] - obspy.clients.fdsn.mass_downloader - INFO: 0 MiniSEED files [0.0 MB] already existed.\n",
      "[2020-06-29 21:00:17,743] - obspy.clients.fdsn.mass_downloader - INFO: 0 StationXML files [0.0 MB] already existed.\n",
      "[2020-06-29 21:00:17,744] - obspy.clients.fdsn.mass_downloader - INFO: Client 'SCEDC' - Acquired 0 MiniSEED files [0.0 MB].\n",
      "[2020-06-29 21:00:17,744] - obspy.clients.fdsn.mass_downloader - INFO: Client 'SCEDC' - Acquired 0 StationXML files [0.0 MB].\n",
      "[2020-06-29 21:00:17,746] - obspy.clients.fdsn.mass_downloader - INFO: Client 'IRIS' - Acquired 3 MiniSEED files [25.2 MB].\n",
      "[2020-06-29 21:00:17,747] - obspy.clients.fdsn.mass_downloader - INFO: Client 'IRIS' - Acquired 1 StationXML files [0.1 MB].\n",
      "[2020-06-29 21:00:17,747] - obspy.clients.fdsn.mass_downloader - INFO: Downloaded 25.2 MB in total.\n"
     ]
    },
    {
     "name": "stdout",
     "output_type": "stream",
     "text": [
      "** done with --> CA06 -- GS -- 2019-09-01\n"
     ]
    }
   ],
   "source": [
    "downloadMseeds(client_list=[\"SCEDC\", \"IRIS\"], \n",
    "          stations_json='station_list.json', \n",
    "          output_dir=\"downloads_mseeds\", \n",
    "          start_time=STIME, \n",
    "          end_time=ETIME, \n",
    "          min_lat=MINLAT, \n",
    "          max_lat=MAXLAT, \n",
    "          min_lon=MINLON, \n",
    "          max_lon=MAXLON,\n",
    "          chunk_size=1,\n",
    "          channel_list=[],\n",
    "          n_processor=2)"
   ]
  },
  {
   "cell_type": "markdown",
   "metadata": {},
   "source": [
    "The above will download the continous data (either in MiniSeed or SAC) and save them into individual folders for each station insider your defined output directory (i.e. downloads_mseeds)."
   ]
  }
 ],
 "metadata": {
  "kernelspec": {
   "display_name": "Python 3",
   "language": "python",
   "name": "python3"
  },
  "language_info": {
   "codemirror_mode": {
    "name": "ipython",
    "version": 3
   },
   "file_extension": ".py",
   "mimetype": "text/x-python",
   "name": "python",
   "nbconvert_exporter": "python",
   "pygments_lexer": "ipython3",
   "version": "3.7.6"
  }
 },
 "nbformat": 4,
 "nbformat_minor": 2
}
