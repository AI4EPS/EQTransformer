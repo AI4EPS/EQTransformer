{
 "cells": [
  {
   "cell_type": "markdown",
   "metadata": {},
   "source": [
    "# Downloading Continuous Data\n",
    "This notebook demonstrates the use of EQTransformer for downloading continuous data from seismic networks. \n"
   ]
  },
  {
   "cell_type": "code",
   "execution_count": 1,
   "metadata": {},
   "outputs": [],
   "source": [
    "from EQTransformer.utils.downloader import makeStationList, downloadMseeds"
   ]
  },
  {
   "cell_type": "markdown",
   "metadata": {},
   "source": [
    "You can use help() to learn about input parameters of each fuunction. For instance:"
   ]
  },
  {
   "cell_type": "code",
   "execution_count": 2,
   "metadata": {},
   "outputs": [
    {
     "name": "stdout",
     "output_type": "stream",
     "text": [
      "Help on function makeStationList in module EQTransformer.utils.downloader:\n",
      "\n",
      "makeStationList(client_list, min_lat, max_lat, min_lon, max_lon, start_time, end_time, channel_list=[], filter_network=[], filter_station=[])\n",
      "    Uses fdsn to find availave stations in a specific geographical location and time period. \n",
      "    \n",
      "    Parameters\n",
      "    ----------\n",
      "       client_list : str\n",
      "           List of client names e.g. [\"IRIS\", \"SCEDC\", \"USGGS\"].\n",
      "       minlat : float\n",
      "           Min latitude of the region.\n",
      "       maxlat : float\n",
      "           Max latitude of the region.\n",
      "       minlon : float\n",
      "           Min longitude of the region.\n",
      "       maxlon : float\n",
      "           Max longitude of the region.           \n",
      "       start_time : str\n",
      "           Start dateitme for the beginging of period in \"YYYY-MM-DDThh:mm:ss.f\" format.\n",
      "       end_time : str\n",
      "           End dateitme in \"YYYY-MM-DDThh:mm:ss.f\" format.          \n",
      "       channel_list : str, default [] --> all channels\n",
      "           A list containting the desired channel codes. Downloads will be limited to these channels based on priority. \n",
      "       filter_network : str, default []\n",
      "           A list containting the network codes that needs to be avoided.               \n",
      "       filter_station : str, default []\n",
      "           A list containting the station names that needs to be avoided.        \n",
      "    Generates\n",
      "    -------\n",
      "    ./stations_list.json\n",
      "\n"
     ]
    }
   ],
   "source": [
    "help(makeStationList)"
   ]
  },
  {
   "cell_type": "markdown",
   "metadata": {},
   "source": [
    "### 1) Finding the availabel stations "
   ]
  },
  {
   "cell_type": "markdown",
   "metadata": {},
   "source": [
    "Defining the location and time period of interest:"
   ]
  },
  {
   "cell_type": "code",
   "execution_count": 3,
   "metadata": {},
   "outputs": [],
   "source": [
    "MINLAT=35.50\n",
    "MAXLAT=35.60\n",
    "MINLON=-117.80\n",
    "MAXLON=-117.40\n",
    "STIME=\"2019-09-01 00:00:00.00\"\n",
    "ETIME=\"2019-09-03 00:00:00.00\""
   ]
  },
  {
   "cell_type": "markdown",
   "metadata": {},
   "source": [
    "You can limit your data types (e.g. broadband, short period, or strong motion) of interest:"
   ]
  },
  {
   "cell_type": "code",
   "execution_count": 4,
   "metadata": {},
   "outputs": [],
   "source": [
    "CHANLIST=[\"HH[ZNE]\", \"HH[Z21]\", \"BH[ZNE]\", \"EH[ZNE]\", \"SH[ZNE]\", \"HN[ZNE]\", \"HN[Z21]\", \"DP[ZNE]\"]"
   ]
  },
  {
   "cell_type": "markdown",
   "metadata": {},
   "source": [
    "This will download the information on the stations that are available based on your search criteria. You can filter out the networks or stations that you are not interested in, you can find the name of the appropriate client for your request from here:"
   ]
  },
  {
   "cell_type": "code",
   "execution_count": 5,
   "metadata": {},
   "outputs": [
    {
     "name": "stdout",
     "output_type": "stream",
     "text": [
      "GS--CA06\n",
      "GS--CA10\n",
      "PB--B921\n",
      "ZY--SV08\n"
     ]
    }
   ],
   "source": [
    "makeStationList(client_list=[\"SCEDC\"],  \n",
    "                  min_lat=MINLAT,\n",
    "                  max_lat=MAXLAT,\n",
    "                  min_lon=MINLON, \n",
    "                  max_lon=MAXLON,                      \n",
    "                  start_time=STIME, \n",
    "                  end_time=ETIME,\n",
    "                  channel_list=CHANLIST,\n",
    "                  filter_network=[\"SY\"],\n",
    "                  filter_station=[])"
   ]
  },
  {
   "cell_type": "markdown",
   "metadata": {},
   "source": [
    "A jason file (\"stataions_list.json\") should have been created in your current directory. This contains information for the available stations (i.e. 4 stations in this case). Next, you can download the data for the available stations using the following function and script. This may take a few minutes."
   ]
  },
  {
   "cell_type": "markdown",
   "metadata": {},
   "source": [
    "### 2) Downloading the data"
   ]
  },
  {
   "cell_type": "markdown",
   "metadata": {},
   "source": [
    "You can define multipel clients as the source:"
   ]
  },
  {
   "cell_type": "code",
   "execution_count": 6,
   "metadata": {},
   "outputs": [
    {
     "name": "stderr",
     "output_type": "stream",
     "text": [
      "[2020-06-25 19:46:14,213] - obspy.clients.fdsn.mass_downloader - INFO: Initializing FDSN client(s) for SCEDC, IRIS.\n"
     ]
    },
    {
     "name": "stdout",
     "output_type": "stream",
     "text": [
      "####### There are 4 stations in the list. #######\n"
     ]
    },
    {
     "name": "stderr",
     "output_type": "stream",
     "text": [
      "[2020-06-25 19:46:15,357] - obspy.clients.fdsn.mass_downloader - INFO: Successfully initialized 2 client(s): SCEDC, IRIS.\n",
      "[2020-06-25 19:46:15,359] - obspy.clients.fdsn.mass_downloader - INFO: Total acquired or preexisting stations: 0\n",
      "[2020-06-25 19:46:15,360] - obspy.clients.fdsn.mass_downloader - INFO: Total acquired or preexisting stations: 0\n",
      "[2020-06-25 19:46:15,360] - obspy.clients.fdsn.mass_downloader - INFO: Client 'SCEDC' - Requesting unreliable availability.\n",
      "[2020-06-25 19:46:15,361] - obspy.clients.fdsn.mass_downloader - INFO: Client 'SCEDC' - Requesting unreliable availability.\n"
     ]
    },
    {
     "name": "stdout",
     "output_type": "stream",
     "text": [
      "======= Working on CA06 station.\n",
      "======= Working on CA10 station.\n"
     ]
    },
    {
     "name": "stderr",
     "output_type": "stream",
     "text": [
      "[2020-06-25 19:46:15,626] - obspy.clients.fdsn.mass_downloader - INFO: Client 'SCEDC' - Successfully requested availability (0.26 seconds)\n",
      "[2020-06-25 19:46:15,627] - obspy.clients.fdsn.mass_downloader - INFO: Client 'SCEDC' - Successfully requested availability (0.26 seconds)\n",
      "[2020-06-25 19:46:15,630] - obspy.clients.fdsn.mass_downloader - INFO: Client 'SCEDC' - Found 1 stations (3 channels).\n",
      "[2020-06-25 19:46:15,632] - obspy.clients.fdsn.mass_downloader - INFO: Client 'SCEDC' - Found 0 stations (0 channels).\n",
      "[2020-06-25 19:46:15,633] - obspy.clients.fdsn.mass_downloader - INFO: Client 'SCEDC' - Will attempt to download data from 1 stations.\n",
      "[2020-06-25 19:46:15,634] - obspy.clients.fdsn.mass_downloader - INFO: Client 'SCEDC' - No data available.\n",
      "[2020-06-25 19:46:15,636] - obspy.clients.fdsn.mass_downloader - INFO: Total acquired or preexisting stations: 0\n",
      "[2020-06-25 19:46:15,636] - obspy.clients.fdsn.mass_downloader - INFO: Client 'SCEDC' - Status for 3 time intervals/channels before downloading: EXISTS\n",
      "[2020-06-25 19:46:15,637] - obspy.clients.fdsn.mass_downloader - INFO: Client 'IRIS' - Requesting reliable availability.\n",
      "[2020-06-25 19:46:15,641] - obspy.clients.fdsn.mass_downloader - INFO: Client 'SCEDC' - No station information to download.\n",
      "[2020-06-25 19:46:15,642] - obspy.clients.fdsn.mass_downloader - INFO: Total acquired or preexisting stations: 1\n",
      "[2020-06-25 19:46:15,642] - obspy.clients.fdsn.mass_downloader - INFO: Client 'IRIS' - Requesting reliable availability.\n",
      "[2020-06-25 19:46:15,729] - obspy.clients.fdsn.mass_downloader - INFO: Client 'IRIS' - Successfully requested availability (0.09 seconds)\n",
      "[2020-06-25 19:46:15,730] - obspy.clients.fdsn.mass_downloader - INFO: Client 'IRIS' - Found 0 stations (0 channels).\n",
      "[2020-06-25 19:46:15,731] - obspy.clients.fdsn.mass_downloader - INFO: Client 'IRIS' - No data available.\n",
      "[2020-06-25 19:46:15,731] - obspy.clients.fdsn.mass_downloader - INFO: ============================== Final report\n",
      "[2020-06-25 19:46:15,732] - obspy.clients.fdsn.mass_downloader - INFO: 0 MiniSEED files [0.0 MB] already existed.\n",
      "[2020-06-25 19:46:15,733] - obspy.clients.fdsn.mass_downloader - INFO: 0 StationXML files [0.0 MB] already existed.\n",
      "[2020-06-25 19:46:15,733] - obspy.clients.fdsn.mass_downloader - INFO: Client 'SCEDC' - Acquired 0 MiniSEED files [0.0 MB].\n",
      "[2020-06-25 19:46:15,734] - obspy.clients.fdsn.mass_downloader - INFO: Client 'SCEDC' - Acquired 0 StationXML files [0.0 MB].\n",
      "[2020-06-25 19:46:15,736] - obspy.clients.fdsn.mass_downloader - INFO: Client 'IRIS' - Acquired 0 MiniSEED files [0.0 MB].\n",
      "[2020-06-25 19:46:15,736] - obspy.clients.fdsn.mass_downloader - INFO: Client 'IRIS' - Acquired 0 StationXML files [0.0 MB].\n",
      "[2020-06-25 19:46:15,737] - obspy.clients.fdsn.mass_downloader - INFO: Downloaded 0.0 MB in total.\n",
      "[2020-06-25 19:46:15,805] - obspy.clients.fdsn.mass_downloader - INFO: Client 'IRIS' - Successfully requested availability (0.16 seconds)\n",
      "[2020-06-25 19:46:15,807] - obspy.clients.fdsn.mass_downloader - INFO: Client 'IRIS' - Found 1 stations (3 channels).\n",
      "[2020-06-25 19:46:15,808] - obspy.clients.fdsn.mass_downloader - INFO: Client 'IRIS' - No new data available after discarding already downloaded data.\n",
      "[2020-06-25 19:46:15,809] - obspy.clients.fdsn.mass_downloader - INFO: ============================== Final report\n",
      "[2020-06-25 19:46:15,810] - obspy.clients.fdsn.mass_downloader - INFO: 3 MiniSEED files [28.2 MB] already existed.\n",
      "[2020-06-25 19:46:15,810] - obspy.clients.fdsn.mass_downloader - INFO: 1 StationXML files [0.0 MB] already existed.\n",
      "[2020-06-25 19:46:15,811] - obspy.clients.fdsn.mass_downloader - INFO: Client 'SCEDC' - Acquired 0 MiniSEED files [0.0 MB].\n",
      "[2020-06-25 19:46:15,812] - obspy.clients.fdsn.mass_downloader - INFO: Client 'SCEDC' - Acquired 0 StationXML files [0.0 MB].\n",
      "[2020-06-25 19:46:15,812] - obspy.clients.fdsn.mass_downloader - INFO: Client 'IRIS' - Acquired 0 MiniSEED files [0.0 MB].\n",
      "[2020-06-25 19:46:15,813] - obspy.clients.fdsn.mass_downloader - INFO: Client 'IRIS' - Acquired 0 StationXML files [0.0 MB].\n",
      "[2020-06-25 19:46:15,814] - obspy.clients.fdsn.mass_downloader - INFO: Downloaded 0.0 MB in total.\n"
     ]
    },
    {
     "name": "stdout",
     "output_type": "stream",
     "text": [
      "** done with --> CA10 -- GS -- 2019-09-01\n",
      "** done with --> CA06 -- GS -- 2019-09-01\n"
     ]
    },
    {
     "name": "stderr",
     "output_type": "stream",
     "text": [
      "[2020-06-25 19:46:43,741] - obspy.clients.fdsn.mass_downloader - INFO: Total acquired or preexisting stations: 0\n",
      "[2020-06-25 19:46:43,741] - obspy.clients.fdsn.mass_downloader - INFO: Client 'SCEDC' - Requesting unreliable availability.\n",
      "[2020-06-25 19:46:43,960] - obspy.clients.fdsn.mass_downloader - INFO: Client 'SCEDC' - Successfully requested availability (0.22 seconds)\n",
      "[2020-06-25 19:46:43,962] - obspy.clients.fdsn.mass_downloader - INFO: Client 'SCEDC' - Found 0 stations (0 channels).\n",
      "[2020-06-25 19:46:43,963] - obspy.clients.fdsn.mass_downloader - INFO: Client 'SCEDC' - No data available.\n",
      "[2020-06-25 19:46:43,964] - obspy.clients.fdsn.mass_downloader - INFO: Total acquired or preexisting stations: 0\n",
      "[2020-06-25 19:46:43,965] - obspy.clients.fdsn.mass_downloader - INFO: Client 'IRIS' - Requesting reliable availability.\n",
      "[2020-06-25 19:46:44,085] - obspy.clients.fdsn.mass_downloader - INFO: Client 'IRIS' - Successfully requested availability (0.12 seconds)\n",
      "[2020-06-25 19:46:44,086] - obspy.clients.fdsn.mass_downloader - INFO: Client 'IRIS' - Found 0 stations (0 channels).\n",
      "[2020-06-25 19:46:44,086] - obspy.clients.fdsn.mass_downloader - INFO: Client 'IRIS' - No data available.\n",
      "[2020-06-25 19:46:44,087] - obspy.clients.fdsn.mass_downloader - INFO: ============================== Final report\n",
      "[2020-06-25 19:46:44,088] - obspy.clients.fdsn.mass_downloader - INFO: 0 MiniSEED files [0.0 MB] already existed.\n",
      "[2020-06-25 19:46:44,088] - obspy.clients.fdsn.mass_downloader - INFO: 0 StationXML files [0.0 MB] already existed.\n",
      "[2020-06-25 19:46:44,089] - obspy.clients.fdsn.mass_downloader - INFO: Client 'SCEDC' - Acquired 0 MiniSEED files [0.0 MB].\n",
      "[2020-06-25 19:46:44,090] - obspy.clients.fdsn.mass_downloader - INFO: Client 'SCEDC' - Acquired 0 StationXML files [0.0 MB].\n",
      "[2020-06-25 19:46:44,091] - obspy.clients.fdsn.mass_downloader - INFO: Client 'IRIS' - Acquired 0 MiniSEED files [0.0 MB].\n",
      "[2020-06-25 19:46:44,092] - obspy.clients.fdsn.mass_downloader - INFO: Client 'IRIS' - Acquired 0 StationXML files [0.0 MB].\n",
      "[2020-06-25 19:46:44,092] - obspy.clients.fdsn.mass_downloader - INFO: Downloaded 0.0 MB in total.\n"
     ]
    },
    {
     "name": "stdout",
     "output_type": "stream",
     "text": [
      "** done with --> CA10 -- GS -- 2019-09-02\n"
     ]
    },
    {
     "name": "stderr",
     "output_type": "stream",
     "text": [
      "[2020-06-25 19:46:44,817] - obspy.clients.fdsn.mass_downloader - INFO: Total acquired or preexisting stations: 0\n",
      "[2020-06-25 19:46:44,818] - obspy.clients.fdsn.mass_downloader - INFO: Client 'SCEDC' - Requesting unreliable availability.\n",
      "[2020-06-25 19:46:45,043] - obspy.clients.fdsn.mass_downloader - INFO: Client 'SCEDC' - Successfully requested availability (0.23 seconds)\n",
      "[2020-06-25 19:46:45,046] - obspy.clients.fdsn.mass_downloader - INFO: Client 'SCEDC' - Found 1 stations (3 channels).\n",
      "[2020-06-25 19:46:45,046] - obspy.clients.fdsn.mass_downloader - INFO: Client 'SCEDC' - Will attempt to download data from 1 stations.\n",
      "[2020-06-25 19:46:45,048] - obspy.clients.fdsn.mass_downloader - INFO: Client 'SCEDC' - Status for 1 time intervals/channels before downloading: EXISTS\n",
      "[2020-06-25 19:46:45,048] - obspy.clients.fdsn.mass_downloader - INFO: Client 'SCEDC' - Status for 2 time intervals/channels before downloading: NEEDS_DOWNLOADING\n",
      "[2020-06-25 19:47:01,467] - obspy.clients.fdsn.mass_downloader - INFO: Client 'SCEDC' - Successfully downloaded 1 channels (of 1)\n",
      "[2020-06-25 19:47:01,475] - obspy.clients.fdsn.mass_downloader - INFO: Client 'SCEDC' - Successfully downloaded 1 channels (of 1)\n",
      "[2020-06-25 19:47:01,477] - obspy.clients.fdsn.mass_downloader - INFO: Client 'SCEDC' - Launching basic QC checks...\n",
      "[2020-06-25 19:47:01,503] - obspy.clients.fdsn.mass_downloader - INFO: Client 'SCEDC' - Downloaded 19.1 MB [1187.86 KB/sec] of data, 0.0 MB of which were discarded afterwards.\n",
      "[2020-06-25 19:47:01,503] - obspy.clients.fdsn.mass_downloader - INFO: Client 'SCEDC' - Status for 2 time intervals/channels after downloading: DOWNLOADED\n",
      "[2020-06-25 19:47:01,504] - obspy.clients.fdsn.mass_downloader - INFO: Client 'SCEDC' - Status for 1 time intervals/channels after downloading: EXISTS\n",
      "[2020-06-25 19:47:01,506] - obspy.clients.fdsn.mass_downloader - INFO: Client 'SCEDC' - No station information to download.\n",
      "[2020-06-25 19:47:01,507] - obspy.clients.fdsn.mass_downloader - INFO: Total acquired or preexisting stations: 1\n",
      "[2020-06-25 19:47:01,508] - obspy.clients.fdsn.mass_downloader - INFO: Client 'IRIS' - Requesting reliable availability.\n",
      "[2020-06-25 19:47:01,638] - obspy.clients.fdsn.mass_downloader - INFO: Client 'IRIS' - Successfully requested availability (0.13 seconds)\n",
      "[2020-06-25 19:47:01,641] - obspy.clients.fdsn.mass_downloader - INFO: Client 'IRIS' - Found 1 stations (3 channels).\n",
      "[2020-06-25 19:47:01,642] - obspy.clients.fdsn.mass_downloader - INFO: Client 'IRIS' - No new data available after discarding already downloaded data.\n",
      "[2020-06-25 19:47:01,643] - obspy.clients.fdsn.mass_downloader - INFO: ============================== Final report\n",
      "[2020-06-25 19:47:01,643] - obspy.clients.fdsn.mass_downloader - INFO: 1 MiniSEED files [9.4 MB] already existed.\n",
      "[2020-06-25 19:47:01,644] - obspy.clients.fdsn.mass_downloader - INFO: 1 StationXML files [0.0 MB] already existed.\n",
      "[2020-06-25 19:47:01,645] - obspy.clients.fdsn.mass_downloader - INFO: Client 'SCEDC' - Acquired 2 MiniSEED files [19.1 MB].\n",
      "[2020-06-25 19:47:01,646] - obspy.clients.fdsn.mass_downloader - INFO: Client 'SCEDC' - Acquired 0 StationXML files [0.0 MB].\n",
      "[2020-06-25 19:47:01,647] - obspy.clients.fdsn.mass_downloader - INFO: Client 'IRIS' - Acquired 0 MiniSEED files [0.0 MB].\n",
      "[2020-06-25 19:47:01,647] - obspy.clients.fdsn.mass_downloader - INFO: Client 'IRIS' - Acquired 0 StationXML files [0.0 MB].\n",
      "[2020-06-25 19:47:01,648] - obspy.clients.fdsn.mass_downloader - INFO: Downloaded 19.1 MB in total.\n"
     ]
    },
    {
     "name": "stdout",
     "output_type": "stream",
     "text": [
      "** done with --> CA06 -- GS -- 2019-09-02\n"
     ]
    },
    {
     "name": "stderr",
     "output_type": "stream",
     "text": [
      "[2020-06-25 19:47:12,097] - obspy.clients.fdsn.mass_downloader - INFO: Total acquired or preexisting stations: 0\n",
      "[2020-06-25 19:47:12,098] - obspy.clients.fdsn.mass_downloader - INFO: Client 'SCEDC' - Requesting unreliable availability.\n"
     ]
    },
    {
     "name": "stdout",
     "output_type": "stream",
     "text": [
      "======= Working on B921 station.\n"
     ]
    },
    {
     "name": "stderr",
     "output_type": "stream",
     "text": [
      "[2020-06-25 19:47:12,395] - obspy.clients.fdsn.mass_downloader - INFO: Client 'SCEDC' - Successfully requested availability (0.30 seconds)\n",
      "[2020-06-25 19:47:12,434] - obspy.clients.fdsn.mass_downloader - INFO: Client 'SCEDC' - Found 1 stations (3 channels).\n",
      "[2020-06-25 19:47:12,435] - obspy.clients.fdsn.mass_downloader - INFO: Client 'SCEDC' - Will attempt to download data from 1 stations.\n",
      "[2020-06-25 19:47:12,438] - obspy.clients.fdsn.mass_downloader - INFO: Client 'SCEDC' - Status for 3 time intervals/channels before downloading: EXISTS\n",
      "[2020-06-25 19:47:12,440] - obspy.clients.fdsn.mass_downloader - INFO: Client 'SCEDC' - No station information to download.\n",
      "[2020-06-25 19:47:12,441] - obspy.clients.fdsn.mass_downloader - INFO: Total acquired or preexisting stations: 1\n",
      "[2020-06-25 19:47:12,442] - obspy.clients.fdsn.mass_downloader - INFO: Client 'IRIS' - Requesting reliable availability.\n",
      "[2020-06-25 19:47:12,648] - obspy.clients.fdsn.mass_downloader - INFO: Client 'IRIS' - Successfully requested availability (0.21 seconds)\n",
      "[2020-06-25 19:47:12,677] - obspy.clients.fdsn.mass_downloader - INFO: Client 'IRIS' - Found 1 stations (3 channels).\n",
      "[2020-06-25 19:47:12,678] - obspy.clients.fdsn.mass_downloader - INFO: Client 'IRIS' - No new data available after discarding already downloaded data.\n",
      "[2020-06-25 19:47:12,679] - obspy.clients.fdsn.mass_downloader - INFO: ============================== Final report\n",
      "[2020-06-25 19:47:12,679] - obspy.clients.fdsn.mass_downloader - INFO: 3 MiniSEED files [27.1 MB] already existed.\n",
      "[2020-06-25 19:47:12,681] - obspy.clients.fdsn.mass_downloader - INFO: 1 StationXML files [0.0 MB] already existed.\n",
      "[2020-06-25 19:47:12,681] - obspy.clients.fdsn.mass_downloader - INFO: Client 'SCEDC' - Acquired 0 MiniSEED files [0.0 MB].\n",
      "[2020-06-25 19:47:12,682] - obspy.clients.fdsn.mass_downloader - INFO: Client 'SCEDC' - Acquired 0 StationXML files [0.0 MB].\n",
      "[2020-06-25 19:47:12,683] - obspy.clients.fdsn.mass_downloader - INFO: Client 'IRIS' - Acquired 0 MiniSEED files [0.0 MB].\n",
      "[2020-06-25 19:47:12,684] - obspy.clients.fdsn.mass_downloader - INFO: Client 'IRIS' - Acquired 0 StationXML files [0.0 MB].\n",
      "[2020-06-25 19:47:12,685] - obspy.clients.fdsn.mass_downloader - INFO: Downloaded 0.0 MB in total.\n"
     ]
    },
    {
     "name": "stdout",
     "output_type": "stream",
     "text": [
      "** done with --> B921 -- PB -- 2019-09-01\n"
     ]
    },
    {
     "name": "stderr",
     "output_type": "stream",
     "text": [
      "[2020-06-25 19:47:29,654] - obspy.clients.fdsn.mass_downloader - INFO: Total acquired or preexisting stations: 0\n",
      "[2020-06-25 19:47:29,654] - obspy.clients.fdsn.mass_downloader - INFO: Client 'SCEDC' - Requesting unreliable availability.\n"
     ]
    },
    {
     "name": "stdout",
     "output_type": "stream",
     "text": [
      "======= Working on SV08 station.\n"
     ]
    },
    {
     "name": "stderr",
     "output_type": "stream",
     "text": [
      "[2020-06-25 19:47:29,959] - obspy.clients.fdsn.mass_downloader - INFO: Client 'SCEDC' - Successfully requested availability (0.30 seconds)\n",
      "[2020-06-25 19:47:29,962] - obspy.clients.fdsn.mass_downloader - INFO: Client 'SCEDC' - Found 1 stations (3 channels).\n",
      "[2020-06-25 19:47:29,963] - obspy.clients.fdsn.mass_downloader - INFO: Client 'SCEDC' - Will attempt to download data from 1 stations.\n",
      "[2020-06-25 19:47:29,964] - obspy.clients.fdsn.mass_downloader - INFO: Client 'SCEDC' - Status for 3 time intervals/channels before downloading: EXISTS\n",
      "[2020-06-25 19:47:29,967] - obspy.clients.fdsn.mass_downloader - INFO: Client 'SCEDC' - No station information to download.\n",
      "[2020-06-25 19:47:29,968] - obspy.clients.fdsn.mass_downloader - INFO: Total acquired or preexisting stations: 1\n",
      "[2020-06-25 19:47:29,969] - obspy.clients.fdsn.mass_downloader - INFO: Client 'IRIS' - Requesting reliable availability.\n",
      "[2020-06-25 19:47:30,077] - obspy.clients.fdsn.mass_downloader - INFO: Client 'IRIS' - No data available for request.\n",
      "[2020-06-25 19:47:30,078] - obspy.clients.fdsn.mass_downloader - INFO: Client 'IRIS' - No data available.\n",
      "[2020-06-25 19:47:30,079] - obspy.clients.fdsn.mass_downloader - INFO: ============================== Final report\n",
      "[2020-06-25 19:47:30,080] - obspy.clients.fdsn.mass_downloader - INFO: 3 MiniSEED files [27.3 MB] already existed.\n",
      "[2020-06-25 19:47:30,081] - obspy.clients.fdsn.mass_downloader - INFO: 1 StationXML files [0.0 MB] already existed.\n",
      "[2020-06-25 19:47:30,082] - obspy.clients.fdsn.mass_downloader - INFO: Client 'SCEDC' - Acquired 0 MiniSEED files [0.0 MB].\n",
      "[2020-06-25 19:47:30,082] - obspy.clients.fdsn.mass_downloader - INFO: Client 'SCEDC' - Acquired 0 StationXML files [0.0 MB].\n",
      "[2020-06-25 19:47:30,083] - obspy.clients.fdsn.mass_downloader - INFO: Client 'IRIS' - Acquired 0 MiniSEED files [0.0 MB].\n",
      "[2020-06-25 19:47:30,084] - obspy.clients.fdsn.mass_downloader - INFO: Client 'IRIS' - Acquired 0 StationXML files [0.0 MB].\n",
      "[2020-06-25 19:47:30,086] - obspy.clients.fdsn.mass_downloader - INFO: Downloaded 0.0 MB in total.\n"
     ]
    },
    {
     "name": "stdout",
     "output_type": "stream",
     "text": [
      "** done with --> SV08 -- ZY -- 2019-09-01\n"
     ]
    },
    {
     "name": "stderr",
     "output_type": "stream",
     "text": [
      "[2020-06-25 19:47:40,690] - obspy.clients.fdsn.mass_downloader - INFO: Total acquired or preexisting stations: 0\n",
      "[2020-06-25 19:47:40,692] - obspy.clients.fdsn.mass_downloader - INFO: Client 'SCEDC' - Requesting unreliable availability.\n",
      "[2020-06-25 19:47:41,039] - obspy.clients.fdsn.mass_downloader - INFO: Client 'SCEDC' - Successfully requested availability (0.35 seconds)\n",
      "[2020-06-25 19:47:41,079] - obspy.clients.fdsn.mass_downloader - INFO: Client 'SCEDC' - Found 1 stations (3 channels).\n",
      "[2020-06-25 19:47:41,080] - obspy.clients.fdsn.mass_downloader - INFO: Client 'SCEDC' - Will attempt to download data from 1 stations.\n",
      "[2020-06-25 19:47:41,081] - obspy.clients.fdsn.mass_downloader - INFO: Client 'SCEDC' - Status for 3 time intervals/channels before downloading: EXISTS\n",
      "[2020-06-25 19:47:41,085] - obspy.clients.fdsn.mass_downloader - INFO: Client 'SCEDC' - No station information to download.\n",
      "[2020-06-25 19:47:41,087] - obspy.clients.fdsn.mass_downloader - INFO: Total acquired or preexisting stations: 1\n",
      "[2020-06-25 19:47:41,088] - obspy.clients.fdsn.mass_downloader - INFO: Client 'IRIS' - Requesting reliable availability.\n",
      "[2020-06-25 19:47:41,263] - obspy.clients.fdsn.mass_downloader - INFO: Client 'IRIS' - Successfully requested availability (0.17 seconds)\n",
      "[2020-06-25 19:47:41,292] - obspy.clients.fdsn.mass_downloader - INFO: Client 'IRIS' - Found 1 stations (3 channels).\n",
      "[2020-06-25 19:47:41,293] - obspy.clients.fdsn.mass_downloader - INFO: Client 'IRIS' - No new data available after discarding already downloaded data.\n",
      "[2020-06-25 19:47:41,294] - obspy.clients.fdsn.mass_downloader - INFO: ============================== Final report\n",
      "[2020-06-25 19:47:41,294] - obspy.clients.fdsn.mass_downloader - INFO: 3 MiniSEED files [19.3 MB] already existed.\n",
      "[2020-06-25 19:47:41,297] - obspy.clients.fdsn.mass_downloader - INFO: 1 StationXML files [0.0 MB] already existed.\n",
      "[2020-06-25 19:47:41,298] - obspy.clients.fdsn.mass_downloader - INFO: Client 'SCEDC' - Acquired 0 MiniSEED files [0.0 MB].\n",
      "[2020-06-25 19:47:41,299] - obspy.clients.fdsn.mass_downloader - INFO: Client 'SCEDC' - Acquired 0 StationXML files [0.0 MB].\n",
      "[2020-06-25 19:47:41,300] - obspy.clients.fdsn.mass_downloader - INFO: Client 'IRIS' - Acquired 0 MiniSEED files [0.0 MB].\n",
      "[2020-06-25 19:47:41,301] - obspy.clients.fdsn.mass_downloader - INFO: Client 'IRIS' - Acquired 0 StationXML files [0.0 MB].\n",
      "[2020-06-25 19:47:41,303] - obspy.clients.fdsn.mass_downloader - INFO: Downloaded 0.0 MB in total.\n"
     ]
    },
    {
     "name": "stdout",
     "output_type": "stream",
     "text": [
      "** done with --> B921 -- PB -- 2019-09-02\n"
     ]
    },
    {
     "name": "stderr",
     "output_type": "stream",
     "text": [
      "[2020-06-25 19:47:57,090] - obspy.clients.fdsn.mass_downloader - INFO: Total acquired or preexisting stations: 0\n",
      "[2020-06-25 19:47:57,091] - obspy.clients.fdsn.mass_downloader - INFO: Client 'SCEDC' - Requesting unreliable availability.\n",
      "[2020-06-25 19:47:57,375] - obspy.clients.fdsn.mass_downloader - INFO: Client 'SCEDC' - Successfully requested availability (0.28 seconds)\n",
      "[2020-06-25 19:47:57,379] - obspy.clients.fdsn.mass_downloader - INFO: Client 'SCEDC' - Found 1 stations (3 channels).\n",
      "[2020-06-25 19:47:57,381] - obspy.clients.fdsn.mass_downloader - INFO: Client 'SCEDC' - Will attempt to download data from 1 stations.\n",
      "[2020-06-25 19:47:57,383] - obspy.clients.fdsn.mass_downloader - INFO: Client 'SCEDC' - Status for 3 time intervals/channels before downloading: EXISTS\n",
      "[2020-06-25 19:47:57,387] - obspy.clients.fdsn.mass_downloader - INFO: Client 'SCEDC' - No station information to download.\n",
      "[2020-06-25 19:47:57,388] - obspy.clients.fdsn.mass_downloader - INFO: Total acquired or preexisting stations: 1\n",
      "[2020-06-25 19:47:57,390] - obspy.clients.fdsn.mass_downloader - INFO: Client 'IRIS' - Requesting reliable availability.\n",
      "[2020-06-25 19:47:57,464] - obspy.clients.fdsn.mass_downloader - INFO: Client 'IRIS' - No data available for request.\n",
      "[2020-06-25 19:47:57,464] - obspy.clients.fdsn.mass_downloader - INFO: Client 'IRIS' - No data available.\n",
      "[2020-06-25 19:47:57,465] - obspy.clients.fdsn.mass_downloader - INFO: ============================== Final report\n",
      "[2020-06-25 19:47:57,467] - obspy.clients.fdsn.mass_downloader - INFO: 3 MiniSEED files [27.6 MB] already existed.\n",
      "[2020-06-25 19:47:57,468] - obspy.clients.fdsn.mass_downloader - INFO: 1 StationXML files [0.0 MB] already existed.\n",
      "[2020-06-25 19:47:57,468] - obspy.clients.fdsn.mass_downloader - INFO: Client 'SCEDC' - Acquired 0 MiniSEED files [0.0 MB].\n",
      "[2020-06-25 19:47:57,469] - obspy.clients.fdsn.mass_downloader - INFO: Client 'SCEDC' - Acquired 0 StationXML files [0.0 MB].\n",
      "[2020-06-25 19:47:57,469] - obspy.clients.fdsn.mass_downloader - INFO: Client 'IRIS' - Acquired 0 MiniSEED files [0.0 MB].\n",
      "[2020-06-25 19:47:57,470] - obspy.clients.fdsn.mass_downloader - INFO: Client 'IRIS' - Acquired 0 StationXML files [0.0 MB].\n",
      "[2020-06-25 19:47:57,471] - obspy.clients.fdsn.mass_downloader - INFO: Downloaded 0.0 MB in total.\n"
     ]
    },
    {
     "name": "stdout",
     "output_type": "stream",
     "text": [
      "** done with --> SV08 -- ZY -- 2019-09-02\n"
     ]
    }
   ],
   "source": [
    "downloadMseeds(client_list=[\"SCEDC\", \"IRIS\"], \n",
    "          stations_json='station_list.json', \n",
    "          output_dir=\"downloads_mseeds\", \n",
    "          start_time=STIME, \n",
    "          end_time=ETIME, \n",
    "          min_lat=MINLAT, \n",
    "          max_lat=MAXLAT, \n",
    "          min_lon=MINLON, \n",
    "          max_lon=MAXLON,\n",
    "          chunck_size=1,\n",
    "          channel_list=[],\n",
    "          n_processor=2)"
   ]
  },
  {
   "cell_type": "markdown",
   "metadata": {},
   "source": [
    "The above will download the continous data (either in MiniSeed or SAC) and save them into individual folders for each station insider your defined output directory (i.e. downloads_mseeds)."
   ]
  }
 ],
 "metadata": {
  "kernelspec": {
   "display_name": "Python 3",
   "language": "python",
   "name": "python3"
  },
  "language_info": {
   "codemirror_mode": {
    "name": "ipython",
    "version": 3
   },
   "file_extension": ".py",
   "mimetype": "text/x-python",
   "name": "python",
   "nbconvert_exporter": "python",
   "pygments_lexer": "ipython3",
   "version": "3.6.10"
  }
 },
 "nbformat": 4,
 "nbformat_minor": 2
}
